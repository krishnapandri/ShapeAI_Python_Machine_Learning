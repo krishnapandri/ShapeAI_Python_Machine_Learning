{
  "nbformat": 4,
  "nbformat_minor": 0,
  "metadata": {
    "colab": {
      "provenance": []
    },
    "kernelspec": {
      "name": "python3",
      "display_name": "Python 3"
    },
    "language_info": {
      "name": "python"
    }
  },
  "cells": [
    {
      "cell_type": "code",
      "execution_count": null,
      "metadata": {
        "id": "s22tukBIl9bJ"
      },
      "outputs": [],
      "source": [
        "import numpy as np\n",
        "import pandas as pd\n",
        "import sklearn\n",
        "\n",
        "from sklearn.datasets import load_boston\n",
        "df=load_boston() \n",
        "df.keys()\n",
        "print(df.DESCR)\n",
        "boston=pd.DataFrame(df.data,columns=df.feature_names)\n",
        "boston.head()\n",
        "df.keys()\n",
        "print(df.feature_names)\n",
        "print(df.target)\n",
        "boston = pd.DataFrame(df.data,columns=df.feature_names)\n",
        "boston.head()\n",
        "boston['MEDV']=df.target\n",
        "boston.head()\n",
        "boston.isnull()\n"
      ]
    },
    {
      "cell_type": "code",
      "source": [
        "boston.isnull().sum()"
      ],
      "metadata": {
        "id": "p-V_T3EJtFTd"
      },
      "execution_count": null,
      "outputs": []
    },
    {
      "cell_type": "code",
      "source": [
        "from sklearn.model_selection import train_test_split\n",
        "\n",
        "X = boston.drop('MEDV',axis=1)\n",
        "Y = boston['MEDV']\n",
        "\n",
        "X_train, X_test, Y_train, Y_test = train_test_split(X, Y, test_size=0.15, random_state=5) \n",
        "\n",
        "print(X_train.shape)\n",
        "print(X_test.shape)\n",
        "print(Y_train.shape)\n",
        "print(Y_test.shape)\n",
        "\n",
        "\n"
      ],
      "metadata": {
        "id": "ur8bqJikoAPy"
      },
      "execution_count": null,
      "outputs": []
    },
    {
      "cell_type": "code",
      "source": [
        "from sklearn.linear_model import LinearRegression\n",
        "from sklearn.metrics import mean_squared_error\n",
        "\n",
        "lin_model = LinearRegression()\n",
        "lin_model.fit(X_train, Y_train)\n"
      ],
      "metadata": {
        "id": "gY7liMkqvIek"
      },
      "execution_count": null,
      "outputs": []
    },
    {
      "cell_type": "code",
      "source": [
        "y_train_predict = lin_model.predict(X_train)\n",
        "rmse = (np.sqrt(mean_squared_error(Y_train, y_train_predict)))   \n",
        "\n",
        "print(\"The model performance for training set\")\n",
        "print('RMSE is {}'.format(rmse))\n",
        "print(\"\\n\")\n",
        "\n",
        "y_test_predict = lin_model.predict(X_test)\n",
        "rmse = (np.sqrt(mean_squared_error(Y_test, y_test_predict))) \n",
        "\n",
        "print(\"The model performance for testing set\")\n",
        "print('RMSE is {}'.format(rmse))"
      ],
      "metadata": {
        "id": "yas7sVqkzKEy"
      },
      "execution_count": null,
      "outputs": []
    }
  ]
}